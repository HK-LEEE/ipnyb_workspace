{
 "cells": [
  {
   "cell_type": "markdown",
   "metadata": {},
   "source": [
    "# Welcome to Your Jupyter Data Platform!\n",
    "\n",
    "이곳은 여러분의 개인 워크스페이스입니다. 다음과 같은 기능들을 활용하실 수 있습니다:\n",
    "\n",
    "## 주요 기능\n",
    "- 데이터 분석 및 시각화\n",
    "- 머신러닝 모델 개발\n",
    "- 단계별 결과 저장 및 재사용\n",
    "\n",
    "## 폴더 구조\n",
    "- `notebooks/`: 노트북 파일 저장\n",
    "- `data/`: 데이터 파일 저장\n",
    "- `outputs/`: 결과 파일 저장"
   ]
  },
  {
   "cell_type": "code",
   "execution_count": 1,
   "metadata": {},
   "outputs": [
    {
     "name": "stdout",
     "output_type": "stream",
     "text": [
      "환영합니다! 모든 라이브러리가 정상적으로 로드되었습니다.\n"
     ]
    }
   ],
   "source": [
    "# 기본 라이브러리 import\n",
    "import pandas as pd\n",
    "import numpy as np\n",
    "import matplotlib.pyplot as plt\n",
    "import seaborn as sns\n",
    "\n",
    "print('환영합니다! 모든 라이브러리가 정상적으로 로드되었습니다.')"
   ]
  },
  {
   "cell_type": "code",
   "execution_count": 2,
   "metadata": {},
   "outputs": [
    {
     "name": "stderr",
     "output_type": "stream",
     "text": [
      "C:\\ipynb_workspace\\backend\\venv\\Lib\\site-packages\\IPython\\core\\pylabtools.py:170: UserWarning: Glyph 52629 (\\N{HANGUL SYLLABLE CUG}) missing from current font.\n",
      "  fig.canvas.print_figure(bytes_io, **kw)\n",
      "C:\\ipynb_workspace\\backend\\venv\\Lib\\site-packages\\IPython\\core\\pylabtools.py:170: UserWarning: Glyph 50696 (\\N{HANGUL SYLLABLE YE}) missing from current font.\n",
      "  fig.canvas.print_figure(bytes_io, **kw)\n",
      "C:\\ipynb_workspace\\backend\\venv\\Lib\\site-packages\\IPython\\core\\pylabtools.py:170: UserWarning: Glyph 49244 (\\N{HANGUL SYLLABLE BBEUN}) missing from current font.\n",
      "  fig.canvas.print_figure(bytes_io, **kw)\n",
      "C:\\ipynb_workspace\\backend\\venv\\Lib\\site-packages\\IPython\\core\\pylabtools.py:170: UserWarning: Glyph 49328 (\\N{HANGUL SYLLABLE SAN}) missing from current font.\n",
      "  fig.canvas.print_figure(bytes_io, **kw)\n",
      "C:\\ipynb_workspace\\backend\\venv\\Lib\\site-packages\\IPython\\core\\pylabtools.py:170: UserWarning: Glyph 51216 (\\N{HANGUL SYLLABLE JEOM}) missing from current font.\n",
      "  fig.canvas.print_figure(bytes_io, **kw)\n",
      "C:\\ipynb_workspace\\backend\\venv\\Lib\\site-packages\\IPython\\core\\pylabtools.py:170: UserWarning: Glyph 46020 (\\N{HANGUL SYLLABLE DO}) missing from current font.\n",
      "  fig.canvas.print_figure(bytes_io, **kw)\n",
      "C:\\ipynb_workspace\\backend\\venv\\Lib\\site-packages\\IPython\\core\\pylabtools.py:170: UserWarning: Glyph 48276 (\\N{HANGUL SYLLABLE BEOM}) missing from current font.\n",
      "  fig.canvas.print_figure(bytes_io, **kw)\n",
      "C:\\ipynb_workspace\\backend\\venv\\Lib\\site-packages\\IPython\\core\\pylabtools.py:170: UserWarning: Glyph 51452 (\\N{HANGUL SYLLABLE JU}) missing from current font.\n",
      "  fig.canvas.print_figure(bytes_io, **kw)\n"
     ]
    },
    {
     "data": {
      "image/png": "[encoded data removed]",
      "text/plain": [
       "<Figure size 800x600 with 1 Axes>"
      ]
     },
     "metadata": {},
     "output_type": "display_data"
    }
   ],
   "source": [
    "import matplotlib.pyplot as plt\n",
    "import seaborn as sns\n",
    "import pandas as pd\n",
    "\n",
    "# 샘플 데이터 생성\n",
    "data = {'x': [1, 2, 3, 4, 5], \n",
    "        'y': [2, 4, 1, 3, 5], \n",
    "        'category': ['A', 'B', 'A', 'B', 'A']}\n",
    "df = pd.DataFrame(data)\n",
    "\n",
    "# Seaborn 스타일 설정 (선택 사항)\n",
    "sns.set_theme(style=\"whitegrid\")\n",
    "\n",
    "# 산점도 그리기\n",
    "plt.figure(figsize=(8, 6)) # 그래프 크기 설정\n",
    "scatter_plot = sns.scatterplot(x='x', y='y', hue='category', data=df, s=100) # hue로 카테고리별 색상 구분, s로 점 크기 설정\n",
    "\n",
    "# 축 레이블 및 제목 설정\n",
    "plt.xlabel('X축', fontsize=12)\n",
    "plt.ylabel('Y축', fontsize=12)\n",
    "plt.title('예쁜 산점도', fontsize=14)\n",
    "\n",
    "# 범례 제목 설정\n",
    "scatter_plot.legend_.set_title(\"범주\", prop={'size':12})\n",
    "\n",
    "# 추가 사용자 정의 (선택 사항)\n",
    "# plt.xlim(0, 6) # x축 범위 설정\n",
    "# plt.ylim(0, 6) # y축 범위 설정\n",
    "# plt.xticks(fontsize=10) # x축 눈금 레이블 크기 설정\n",
    "# plt.yticks(fontsize=10) # y축 눈금 레이블 크기 설정\n",
    "\n",
    "# 그래프를 파일로 저장 (선택 사항)\n",
    "# plt.savefig('scatter_plot.png', dpi=300)\n",
    "\n",
    "# 그래프 표시\n",
    "plt.show()"
   ]
  },
  {
   "cell_type": "code",
   "execution_count": null,
   "metadata": {},
   "outputs": [],
   "source": []
  }
 ],
 "metadata": {
  "kernelspec": {
   "display_name": "Python 3 (ipykernel)",
   "language": "python",
   "name": "python3"
  },
  "language_info": {
   "codemirror_mode": {
    "name": "ipython",
    "version": 3
   },
   "file_extension": ".py",
   "mimetype": "text/x-python",
   "name": "python",
   "nbconvert_exporter": "python",
   "pygments_lexer": "ipython3",
   "version": "3.11.9"
  }
 },
 "nbformat": 4,
 "nbformat_minor": 4
}
